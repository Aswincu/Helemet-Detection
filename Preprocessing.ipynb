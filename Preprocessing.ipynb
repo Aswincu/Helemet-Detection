{
 "cells": [
  {
   "cell_type": "code",
   "execution_count": 1,
   "id": "b2926ab2",
   "metadata": {},
   "outputs": [],
   "source": [
    "#Helmet Detection Preprocessing"
   ]
  },
  {
   "cell_type": "code",
   "execution_count": 2,
   "id": "46a5fd43",
   "metadata": {},
   "outputs": [],
   "source": [
    "#Import needed libraries\n",
    "import os\n",
    "import cv2\n",
    "import numpy as np\n",
    "from keras.utils import np_utils"
   ]
  },
  {
   "cell_type": "code",
   "execution_count": 3,
   "id": "cd9cf5f7",
   "metadata": {},
   "outputs": [],
   "source": [
    "#Load the dataset\n",
    "data_path=r\"C:\\Users\\hp\\Downloads\\archive (10)\""
   ]
  },
  {
   "cell_type": "code",
   "execution_count": 4,
   "id": "70ba1c21",
   "metadata": {},
   "outputs": [],
   "source": [
    "categories=os.listdir(data_path)"
   ]
  },
  {
   "cell_type": "code",
   "execution_count": 5,
   "id": "e960b4b5",
   "metadata": {},
   "outputs": [],
   "source": [
    "labels=[i for i in range(len(categories))]"
   ]
  },
  {
   "cell_type": "code",
   "execution_count": 6,
   "id": "e70c8e66",
   "metadata": {},
   "outputs": [],
   "source": [
    "label_dict=dict(zip(categories,labels))"
   ]
  },
  {
   "cell_type": "code",
   "execution_count": 7,
   "id": "3c7884f3",
   "metadata": {},
   "outputs": [
    {
     "name": "stdout",
     "output_type": "stream",
     "text": [
      "['With Helmet', 'Without Helmet']\n"
     ]
    }
   ],
   "source": [
    "print(categories)"
   ]
  },
  {
   "cell_type": "code",
   "execution_count": 8,
   "id": "9d30af98",
   "metadata": {},
   "outputs": [
    {
     "name": "stdout",
     "output_type": "stream",
     "text": [
      "[0, 1]\n"
     ]
    }
   ],
   "source": [
    "print(labels)"
   ]
  },
  {
   "cell_type": "code",
   "execution_count": 9,
   "id": "12cd2f8e",
   "metadata": {},
   "outputs": [
    {
     "name": "stdout",
     "output_type": "stream",
     "text": [
      "{'With Helmet': 0, 'Without Helmet': 1}\n"
     ]
    }
   ],
   "source": [
    "print(label_dict)"
   ]
  },
  {
   "cell_type": "code",
   "execution_count": 10,
   "id": "9cbcd839",
   "metadata": {},
   "outputs": [],
   "source": [
    "image_size=100\n",
    "data=[]\n",
    "target=[]\n",
    "\n",
    "for category in categories:\n",
    "        folder_path=os.path.join(data_path,category)\n",
    "        image_names=os.listdir(folder_path)\n",
    "        for image_name in image_names:\n",
    "            image_path=os.path.join(folder_path,image_name)\n",
    "            img=cv2.imread(image_path)\n",
    "            try:\n",
    "                grey=cv2.cvtColor(img,cv2.COLOR_BGR2GRAY)\n",
    "                resize=cv2.resize(grey,(image_size,image_size))\n",
    "                data.append(resize)\n",
    "                target.append(label_dict[category])\n",
    "            except:\n",
    "                print(\"Exception\",e)"
   ]
  },
  {
   "cell_type": "code",
   "execution_count": 12,
   "id": "8930b404",
   "metadata": {},
   "outputs": [],
   "source": [
    "data=np.array(data)/255.0\n",
    "data=np.reshape(data,(data.shape[0],image_size,image_size,1))\n",
    "target=np.array(target)"
   ]
  },
  {
   "cell_type": "code",
   "execution_count": 13,
   "id": "4295db70",
   "metadata": {},
   "outputs": [],
   "source": [
    "new_target=np_utils.to_categorical(target)"
   ]
  },
  {
   "cell_type": "code",
   "execution_count": 14,
   "id": "5fcf5bca",
   "metadata": {},
   "outputs": [],
   "source": [
    "np.save('data.npy', data)  "
   ]
  },
  {
   "cell_type": "code",
   "execution_count": 15,
   "id": "f88ce9f0",
   "metadata": {},
   "outputs": [],
   "source": [
    "np.save('target.npy', target)  "
   ]
  },
  {
   "cell_type": "code",
   "execution_count": null,
   "id": "6651f4be",
   "metadata": {},
   "outputs": [],
   "source": []
  }
 ],
 "metadata": {
  "kernelspec": {
   "display_name": "Python 3",
   "language": "python",
   "name": "python3"
  },
  "language_info": {
   "codemirror_mode": {
    "name": "ipython",
    "version": 3
   },
   "file_extension": ".py",
   "mimetype": "text/x-python",
   "name": "python",
   "nbconvert_exporter": "python",
   "pygments_lexer": "ipython3",
   "version": "3.8.8"
  }
 },
 "nbformat": 4,
 "nbformat_minor": 5
}
